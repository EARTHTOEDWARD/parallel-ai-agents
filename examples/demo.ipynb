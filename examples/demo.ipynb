{
  "cells": [
    {
      "cell_type": "markdown",
      "metadata": {},
      "source": [
        "# Parallel AI Agents Demo\n",
        "\n",
        "This notebook demonstrates the minimal mission example - a simple chain of TypeScript modules."
      ]
    },
    {
      "cell_type": "markdown",
      "metadata": {},
      "source": [
        "## 1. The Poem Module\n",
        "\n",
        "First, let's see what our poem module returns:"
      ]
    },
    {
      "cell_type": "code",
      "execution_count": null,
      "metadata": {},
      "outputs": [],
      "source": [
        "!cd min-mission && ts-node -e \"import { poem } from './poem'; console.log(poem());\""
      ]
    },
    {
      "cell_type": "markdown",
      "metadata": {},
      "source": [
        "## 2. Sentiment Analysis\n",
        "\n",
        "Next, the sentiment module analyzes the poem:"
      ]
    },
    {
      "cell_type": "code",
      "execution_count": null,
      "metadata": {},
      "outputs": [],
      "source": [
        "!cd min-mission && ts-node -e \"import { sentiment } from './sentiment'; console.log(JSON.stringify(sentiment(), null, 2));\""
      ]
    },
    {
      "cell_type": "markdown",
      "metadata": {},
      "source": [
        "## 3. Complete Summary\n",
        "\n",
        "Finally, the summary module chains everything together:"
      ]
    },
    {
      "cell_type": "code",
      "execution_count": null,
      "metadata": {},
      "outputs": [],
      "source": [
        "!cd min-mission && ts-node summary.ts"
      ]
    },
    {
      "cell_type": "markdown",
      "metadata": {},
      "source": [
        "## Key Takeaways\n",
        "\n",
        "1. **Modular Design**: Each module has a single responsibility\n",
        "2. **Type Safety**: TypeScript ensures contracts between modules\n",
        "3. **Testability**: Each module can be tested independently\n",
        "4. **Composability**: Modules chain together naturally\n",
        "\n",
        "This pattern scales to the full parallel agent workflow where:\n",
        "- Backend agent creates data processing modules\n",
        "- Frontend agent creates UI components\n",
        "- Test agent ensures everything works together"
      ]
    }
  ],
  "metadata": {
    "kernelspec": {
      "display_name": "Python 3",
      "language": "python",
      "name": "python3"
    },
    "language_info": {
      "codemirror_mode": {
        "name": "ipython",
        "version": 3
      },
      "file_extension": ".py",
      "mimetype": "text/x-python",
      "name": "python",
      "nbconvert_exporter": "python",
      "pygments_lexer": "ipython3",
      "version": "3.8.0"
    }
  },
  "nbformat": 4,
  "nbformat_minor": 4
}